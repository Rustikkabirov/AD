{
  "cells": [
    {
      "cell_type": "markdown",
      "metadata": {
        "id": "ZhRv1iHi9-xB"
      },
      "source": [
        "# <a href=\"https://thetahat.ru/courses/ad\">Введение в анализ данных</a>\n",
        "## Домашнее задание 1. Простой анализ данных.\n"
      ]
    },
    {
      "cell_type": "markdown",
      "metadata": {
        "id": "BhQy2z2g9-xD"
      },
      "source": [
        "**Правила, <font color=\"red\">прочитайте внимательно</font>:**\n",
        "\n",
        "* Выполненную работу нужно отправить телеграм-боту `@thetahat_ds25_bot`. Для начала работы с ботом каждый раз отправляйте `/start`. Дождитесь подтверждения от бота, что он принял файл. Если подтверждения нет, то что-то не так. **Работы, присланные иным способом, не принимаются.**\n",
        "* Дедлайн см. в боте. После дедлайна работы не принимаются кроме случаев наличия уважительной причины.\n",
        "* Прислать нужно **ноутбук в формате `ipynb`**. Если вы строите интерактивные графики, их стоит прислать в формате html.\n",
        "* Следите за размером файлов. **Бот не может принимать файлы весом более 20 Мб.** Если файл получается больше, заранее разделите его на несколько.\n",
        "* Выполнять задание необходимо полностью самостоятельно. **При обнаружении списывания всем участникам списывания дается штраф -2 балла к итоговой оценке за семестр.**\n",
        "* Решения, размещенные на каких-либо интернет-ресурсах, не принимаются. Кроме того, публикация решения в открытом доступе может быть приравнена к предоставлении возможности списать.\n",
        "* Обратите внимание на <a href=\"https://thetahat.ru/courses/ai-rules\"><b>правила использования ИИ-инструментов</b></a> при решении домашнего задания.\n",
        "* **Код из рассказанных на занятиях ноутбуков** можно использовать без ограничений.\n",
        "* Для выполнения задания используйте этот ноутбук в качестве основы, ничего не удаляя из него. Можно добавлять необходимое количество ячеек.\n",
        "* Комментарии к решению пишите в markdown-ячейках.\n",
        "* Выполнение задания (ход решения, выводы и пр.) должно быть осуществлено на русском языке.\n",
        "* Решение проверяется системой ИИ-проверки <a href=\"https://thetahat.ru/\"><img src=\"attachment:ai_eval_small.png\" style=\"display: inline; vertical-align: middle;\"></a> **ThetaGrader**. Результат проверки валидируется и исправляется человеком, после чего комментарии отправляются студентам.\n",
        "* Если код будет не понятен проверяющему, оценка может быть снижена.\n",
        "* Никакой код из данного задания при проверке запускаться не будет. *Если код студента не выполнен, недописан и т.д., то он не оценивается.*\n",
        "\n",
        "<b><font size=\"5\" color=\"red\">Важно!!! Правила заполнения ноутбука:</font></b>\n",
        "* Запрещается удалять имеющиеся в ноутбуке ячейки, менять местами положения задач.\n",
        "* Сохраняйте естественный линейный порядок повествования в ноутбуке сверху-вниз.\n",
        "* Отвечайте на вопросы, а также добавляйте новые ячейки в предложенных местах, которые обозначены `<...>`.\n",
        "* В markdown-ячейка, содержащих описание задачи, находятся специальные отметки, которые <font color=\"red\"><b>запрещается модифицировать</b></font>.\n",
        "* При нарушении данных правил работа может получить 0 баллов.\n",
        "\n",
        "\n",
        "**Перед выполнением задания посмотрите презентацию по выполнению и оформлению домашних заданий с занятия 2.**\n",
        "\n",
        "\n",
        "**Баллы за задание:**\n",
        "\n",
        "<b><font color=\"blue\">Легкая часть</font></b> (достаточно на \"хор\"):\n",
        "* Задача 1 &mdash; 30 баллов\n",
        "* Задача 2 &mdash; 90 баллов\n",
        "\n",
        "Баллы учитываются в <b>обязательной части</b> курса и не влияют на оценку по факультативной части."
      ]
    },
    {
      "cell_type": "code",
      "execution_count": 17,
      "metadata": {
        "id": "0ubWZS129-xE"
      },
      "outputs": [],
      "source": [
        "\n",
        "# Bot check\n",
        "\n",
        "# HW_ID: fpmi_ad1\n",
        "# Бот проверит этот ID и предупредит, если случайно сдать что-то не то\n",
        "\n",
        "# Status: not final\n",
        "# Перед отправкой в финальном решении удали \"not\" в строчке выше\n",
        "# Так бот проверит, что ты отправляешь финальную версию, а не промежуточную"
      ]
    },
    {
      "cell_type": "code",
      "source": [
        "import pandas as pd\n",
        "import numpy as np\n",
        "import matplotlib.pyplot as plt\n",
        "\n",
        "# обратите внимание, что Scikit-Learn импортируется как sklearn\n",
        "from sklearn import datasets\n",
        "from sklearn.preprocessing import MinMaxScaler\n",
        "from sklearn.datasets import fetch_openml\n",
        "from sklearn.model_selection import train_test_split\n",
        "from sklearn.neighbors import KNeighborsClassifier\n",
        "from sklearn.metrics import accuracy_score\n",
        "\n",
        "# фиксируем seed для воспроизводимости результатов\n",
        "random_state = 42"
      ],
      "metadata": {
        "id": "EULDTtYOBYx8"
      },
      "execution_count": 18,
      "outputs": []
    },
    {
      "cell_type": "markdown",
      "metadata": {
        "id": "x0jEd3XA9-xF"
      },
      "source": [
        "#### Тренировочные задачи на библиотеки\n",
        "\n",
        "Если вы неуверенно себя чувствуете в библиотеках numpy, pandas, matplotlib, seaborn, рекомендуем сначала\n",
        "* посмотреть материалы по библиотекам на нашем сайте\n",
        "* прорешать упражнения на библиотеки на странице курса\n",
        "* прорешать <a href=\"https://contest.yandex.ru/contest/75090/enter/\">два упражнения на numpy</a> в системе Яндекс.Контест."
      ]
    },
    {
      "cell_type": "markdown",
      "metadata": {
        "ai_eval_tool": {
          "snippet_hash": "9ede240862d9bf1602556040405c317e",
          "snippet_label": "start"
        },
        "id": "6VKl_PIkw3io"
      },
      "source": [
        "<!-- Внимание! Здесь находится специальная отметка. Ее нельзя удалять! Ответы на вопросы / выводы для предыдущего пункта(ов) пиши в ячейках выше! -->\n",
        "<!-- 9ede240862d9bf1602556040405c317e -->\n",
        "---\n",
        "### <font color=\"blue\"><i>Легкая часть</i></font>\n",
        "\n",
        "### Задача 1\n",
        "\n",
        "На семинаре мы разбирали классификацию изображений на основе kNN. В этом задании мы вернемся к датасету [MNIST](https://scikit-learn.org/stable/modules/generated/sklearn.datasets.load_digits.html) и попробуем улучшить результат, полученный на семинаре.\n",
        "\n",
        "Для начала, загрузите данные и разделите их на обучающую и тестовую части."
      ]
    },
    {
      "cell_type": "code",
      "source": [
        "#функции для пункта 1\n",
        "def Accuracystats(X_test, X_train, y_train, y_test, key, metrics):\n",
        "    \"\"\"\n",
        "    Вычисляет точность (accuracy) модели KNeighborsClassifier для различных значений k (количество соседей).\n",
        "\n",
        "    Параметры:\n",
        "    - X_test: Тестовые данные (признаки).\n",
        "    - X_train: Обучающие данные (признаки).\n",
        "    - y_train: Обучающие данные (целевые значения).\n",
        "    - y_test: Тестовые данные (целевые значения).\n",
        "    - key: Ключ, указывающий, какие данные использовать для оценки ('test' или 'train').\n",
        "    - metrics: Метрика расстояния для KNeighborsClassifier (например, 1 для манхэттенского расстояния, 2 для евклидова).\n",
        "\n",
        "    Возвращает:\n",
        "    - stats: Массив numpy с точностью (accuracy) для каждого значения k от 1 до 20.\n",
        "    \"\"\"\n",
        "    # Словарь для хранения тестовых и обучающих данных (признаки)\n",
        "    xdata_for_testing = {\n",
        "        'test': X_test,\n",
        "        'train': X_train\n",
        "    }\n",
        "\n",
        "    # Словарь для хранения тестовых и обучающих данных (целевые значения)\n",
        "    ydata_for_testing = {\n",
        "        'test': y_test,\n",
        "        'train': y_train\n",
        "    }\n",
        "\n",
        "    # Список для хранения точности (accuracy) для каждого k\n",
        "    accuracy_by_k = []\n",
        "\n",
        "    # Перебираем значения k от 1 до 20\n",
        "    for i in range(1, 21):\n",
        "        # Создаем модель KNeighborsClassifier с текущим значением k и заданной метрикой\n",
        "        model = KNeighborsClassifier(n_neighbors=i, algorithm=\"brute\", p=metrics)\n",
        "\n",
        "        # Обучаем модель на обучающих данных\n",
        "        model.fit(X_train, y_train)\n",
        "\n",
        "        # Предсказываем целевые значения для выбранных данных (тестовых или обучающих)\n",
        "        y_pred = model.predict(xdata_for_testing[key])\n",
        "\n",
        "        # Вычисляем точность (accuracy) для предсказанных значений\n",
        "        score = accuracy_score(ydata_for_testing[key], y_pred)\n",
        "\n",
        "        # Добавляем точность в список\n",
        "        accuracy_by_k.append(score)\n",
        "\n",
        "    # Преобразуем список в массив numpy для удобства работы\n",
        "    stats = np.array(accuracy_by_k)\n",
        "\n",
        "    # Возвращаем массив с точностью для каждого k\n",
        "    return stats\n",
        "\n",
        "import matplotlib.pyplot as plt\n",
        "\n",
        "def Scatter(k, res_test, res_train, key):\n",
        "    \"\"\"\n",
        "    Строит scatter-график для визуализации точности (accuracy) в зависимости от значения k.\n",
        "\n",
        "    Параметры:\n",
        "    - k: Список значений гиперпараметра k (количество соседей).\n",
        "    - res_test: Точность (accuracy) для тестовых данных.\n",
        "    - res_train: Точность (accuracy) для обучающих данных.\n",
        "    - key: Значение метрики расстояния (p), используемое в модели.\n",
        "\n",
        "    Возвращает:\n",
        "    - None (отображает график).\n",
        "    \"\"\"\n",
        "    # Создаем новое окно для графика\n",
        "    plt.figure()\n",
        "\n",
        "    # Строим scatter-график для тестовых данных\n",
        "    plt.scatter(k, res_test, label='для тестовых данных при p = 'f\"{key}\")\n",
        "\n",
        "    # Строим scatter-график для обучающих данных\n",
        "    plt.scatter(k, res_train, label='для обучающих данных при p = 'f\"{key}\")\n",
        "\n",
        "    # Подписываем ось X\n",
        "    plt.xlabel('Значения гиперпараметра k')\n",
        "\n",
        "    # Подписываем ось Y\n",
        "    plt.ylabel('Accuracy')\n",
        "\n",
        "    # Добавляем легенду\n",
        "    plt.legend()\n",
        "\n",
        "    # Отображаем график\n",
        "    plt.show()"
      ],
      "metadata": {
        "id": "K7Qo6pKPZxP3"
      },
      "execution_count": 19,
      "outputs": []
    },
    {
      "cell_type": "code",
      "execution_count": 20,
      "metadata": {
        "id": "Lb6MyU-uleIo",
        "colab": {
          "base_uri": "https://localhost:8080/"
        },
        "outputId": "155648ab-6261-4d1d-8075-82c129cb60f5"
      },
      "outputs": [
        {
          "output_type": "stream",
          "name": "stdout",
          "text": [
            "1257\n"
          ]
        }
      ],
      "source": [
        "digits = datasets.load_digits() ## функция скачивающая картинки 8x8 из sklearn\n",
        "X, y = digits[\"images\"].reshape(len(digits[\"images\"]), -1), digits[\"target\"]\n",
        "X_train, X_test, y_train, y_test = train_test_split(X, y, train_size=0.7, random_state=random_state)\n",
        "print(X_train.shape[0])\n"
      ]
    },
    {
      "cell_type": "markdown",
      "metadata": {
        "id": "mT-r62MNttSF"
      },
      "source": [
        "Число соседей в модели kNN является необучаемым параметром т.е. гиперпараметром который выставляется вручную. Как мы видели на лекции, выбор оптимального значения $k$ важен, так как слишком маленькое значение может привести к переобучению, а слишком большое — к недообучению.\n",
        "\n",
        "Постройте график зависимости точности (`accuracy_score`) предсказания kNN от значения $k$ (от 1 до 20) для обучающей и тестовой выборок."
      ]
    },
    {
      "cell_type": "code",
      "execution_count": 21,
      "metadata": {
        "ai_eval_tool": {
          "snippet_hash": "9ede240862d9bf1602556040405c317e",
          "snippet_label": "end"
        },
        "id": "j4UhszICw8Bo"
      },
      "outputs": [],
      "source": [
        "stats_test_p2 = Accuracystats(X_test, X_train,y_train, y_test, \"test\", 2) ## внутри функций прописанных выше мы проделываем наш KNN и возвращаем y_pred который stats\n",
        "stats_train_p2 = Accuracystats(X_test, X_train, y_train, y_test, \"train\", 2)\n",
        "k = np.array([i for i in range(1,21)])\n"
      ]
    },
    {
      "cell_type": "code",
      "source": [
        "##Далее вызываем scatter ячейки\n",
        "plt.style.use(\"seaborn-v0_8\")\n",
        "Scatter(k, stats_test_p2, stats_train_p2, 2)"
      ],
      "metadata": {
        "colab": {
          "base_uri": "https://localhost:8080/",
          "height": 503
        },
        "id": "MMTONmP5auZw",
        "outputId": "c348db68-074d-4ce3-df84-0216b2ab3f45"
      },
      "execution_count": 22,
      "outputs": [
        {
          "output_type": "display_data",
          "data": {
            "text/plain": [
              "<Figure size 800x550 with 1 Axes>"
            ],
            "image/png": "[encoded data removed]"
          },
          "metadata": {}
        }
      ]
    },
    {
      "cell_type": "markdown",
      "metadata": {
        "ai_eval_tool": {
          "snippet_hash": "fe9171a6e245a953987df27f018c61c2",
          "snippet_label": "end"
        },
        "id": "pJiPScaLwmXi"
      },
      "source": [
        "<!-- Внимание! Здесь находится специальная отметка. Ее нельзя удалять! Ответы на вопросы / выводы для предыдущего пункта(ов) пиши в ячейках выше! -->\n",
        "<!-- fe9171a6e245a953987df27f018c61c2 -->\n",
        "&#x2753; **Вопрос** &#x2753;\n",
        "\n",
        "> Почему при $k = 1$ на тренировочной выборке метрика качества составляет 100%.\n",
        "\n",
        "**Ваш ответ:** ..."
      ]
    },
    {
      "cell_type": "markdown",
      "source": [
        "Потому что KNN запоминает тренировочную выборку, а потом уже по ней ищет ближайших для каждых значений из точек для которых мы хотим сделать предикт при выбранном значении k. Но посколкьу KNN помнит тестовые данные, то для каждой тестовой точки ближайшей будет она сама, поэтому и будет 100%."
      ],
      "metadata": {
        "id": "HhEPklGya_fl"
      }
    },
    {
      "cell_type": "markdown",
      "metadata": {
        "ai_eval_tool": {
          "snippet_hash": "cdb15caec1719ca7ba80d25b716879ca",
          "snippet_label": "start"
        },
        "id": "REdGLgdPqEwO"
      },
      "source": [
        "<!-- Внимание! Здесь находится специальная отметка. Ее нельзя удалять! Ответы на вопросы / выводы для предыдущего пункта(ов) пиши в ячейках выше! -->\n",
        "<!-- cdb15caec1719ca7ba80d25b716879ca -->\n",
        "Помимо числа соседей гиперпараметром модели также является *метрика расстояния* между объектами.\n",
        "\n",
        "> По умолчанию используется *Евклидова метрика* ($L_2$), согласно которой расстояние между двумя точками $x_1 =(x_{11}, …, x_{1d})$ и $x_2=(x_{21},…,x_{2n})$ в $d$-мерном пространстве определяется как:\n",
        "$$\\rho(x_1, x_2) = \\sqrt{\\sum^d_{j=1}\\left(x_{1j} - x_{2j}\\right)^2}.$$\n",
        ">\n",
        "> Иногда в kNN имеет смысл использовать другие метрики, например *метрику Манхэттена* ($L_1$).\n",
        "$$\\rho(x_1, x_2) = \\sum^d_{j=1} \\left|x_{1j} - x_{2j}\\right|.$$\n",
        ">\n",
        "> Выбор одной из них зависит от особенностей задачи и данных. В частности,\n",
        ">\n",
        "> * метрика Манхэттена менее чувствительна к выбросам, чем евклидово расстояние, что делает её полезной для данных с сильным шумом или при наличии аномалий;\n",
        ">\n",
        "> * в задачах с разреженными данными (например, текстовые данные, представленные в виде векторов) метрика Манхэттена может работать лучше, чем евклидово расстояние."
      ]
    },
    {
      "cell_type": "markdown",
      "metadata": {
        "id": "4g9hVn2KmKeE"
      },
      "source": [
        "Проведите аналогичный эксперимент используя в качестве гиперпараметра $L_1$-метрику (выясните сами, как ее задать). Выведите на одном графике зависимости точности (accuracy) от значения $k$ для обучающей и тестовой выборок для обоих метрик."
      ]
    },
    {
      "cell_type": "code",
      "execution_count": 23,
      "metadata": {
        "id": "z8uEdlnKyTsC",
        "colab": {
          "base_uri": "https://localhost:8080/",
          "height": 503
        },
        "outputId": "60ccafc6-e130-46ea-9b7d-94056b28789c"
      },
      "outputs": [
        {
          "output_type": "display_data",
          "data": {
            "text/plain": [
              "<Figure size 800x550 with 1 Axes>"
            ],
            "image/png": "[encoded data removed]"
          },
          "metadata": {}
        }
      ],
      "source": [
        "stats_test_p1 =  Accuracystats(X_test, X_train, y_train, y_test, \"test\", 1)\n",
        "stats_train_p1 = stats_train_p2 = Accuracystats(X_test, X_train, y_train, y_test, \"train\", 1)\n",
        "Scatter(k, stats_test_p1, stats_train_p1, 1)"
      ]
    },
    {
      "cell_type": "markdown",
      "metadata": {
        "id": "pdv72RC0ggo-"
      },
      "source": [
        "&#x2754; **Вопрос** &#x2754;\n",
        "\n",
        "> Как вы думаете почему смена метрики так сильно повлияла на характер кривых?\n",
        "\n",
        "**Ваш ответ:** ..."
      ]
    },
    {
      "cell_type": "markdown",
      "source": [
        "В манхэттенской метрике у нас считается расстояние между точками с помощью сумм. Эти суммы не превосходят 16*64, получится, что у нас всего не так много позиций из-за этого огромное число точек может наслаиваться друг на друга, поэтому евлидово расстояние, как мне кажется помогает с большей уверенностью различать точки расстояние между которыми переменно. То есть когда диапазон разброса не очень большой, как в нашей задаче, брать манхэттенскую метрику неразумно."
      ],
      "metadata": {
        "id": "ZPgP_iiwiYQO"
      }
    },
    {
      "cell_type": "markdown",
      "metadata": {
        "ai_eval_tool": {
          "snippet_hash": "cdb15caec1719ca7ba80d25b716879ca",
          "snippet_label": "end"
        },
        "id": "ADwgvQaE1EOe"
      },
      "source": [
        "**Выводы:** ..."
      ]
    },
    {
      "cell_type": "markdown",
      "source": [
        "Подбор параметров $ k $ и $p$ (метрики) для каждой задачи — это особенный процесс. Необходимо оценивать разброс данных, наличие выбросов и другие особенности, так как гиперпараметры зависят от конкретной задачи. Не существует универсального набора $(k, p)$, который бы оптимально решал задачу классификации с помощью метода k-Nearest Neighbors (KNN) для всех случаев. Это сложная задача, требующая детального анализа.\n",
        "\n",
        "Например, как можно заметить в нашей задаче, для разных метрик мы получили различные значения оптимальных $k$. Более того, даже для разных наборов тестируемых данных оптимальные значения $k$ могут отличаться. Поэтому подбор оптимальных $k$ и $p$ — это нетривиальная задача, которая требует тщательного анализа данных и экспериментов."
      ],
      "metadata": {
        "id": "PA6tEAknjrsM"
      }
    },
    {
      "cell_type": "markdown",
      "metadata": {
        "id": "Ov2nWFnVoReB"
      },
      "source": [
        "<!-- Внимание! Здесь находится специальная отметка. Ее нельзя удалять! Ответы на вопросы / выводы для предыдущего пункта(ов) пиши в ячейках выше! -->\n",
        "<!-- 00000000000000000000000000000000 -->\n",
        "\n",
        "\n",
        "---\n",
        "\n",
        "### Задача 2\n",
        "\n",
        "Перед выполнением задачи рекомендуется посмотреть <a href=\"https://thetahat.ru/courses/ad/main/1/main_sem_kNN\">материал</a> с семинара.\n",
        "\n",
        "#### 0. Подготовка данных\n",
        "\n",
        "Титаник был крупнейшим пассажирским судном в 1912—1913 годах. Во время первого рейса затонул в северной Атлантике, столкнувшись с айсбергом в ночь с 14 на 15 апреля 1912 года, при этом погибло 1502 из 2224 пассажиров и членов экипажа. Данные о пассажирах были собраны в таблицы, которые можно скачать с <a href=\"https://www.kaggle.com/c/titanic/data\" target=\"_blank\">Kaggle</a>. Эти данные часто используются в качестве обучающих в анализе данных.\n",
        "\n",
        "\n",
        "Загрузите данные с помощью `pandas`."
      ]
    },
    {
      "cell_type": "code",
      "execution_count": 24,
      "metadata": {
        "id": "u3XTF4HQoRsu",
        "colab": {
          "base_uri": "https://localhost:8080/",
          "height": 255
        },
        "outputId": "1db765b3-5ad4-4ba0-e655-06c41641565a"
      },
      "outputs": [
        {
          "output_type": "execute_result",
          "data": {
            "text/plain": [
              "   PassengerId  Survived  Pclass  \\\n",
              "0            1         0       3   \n",
              "1            2         1       1   \n",
              "2            3         1       3   \n",
              "3            4         1       1   \n",
              "4            5         0       3   \n",
              "\n",
              "                                                Name     Sex   Age  SibSp  \\\n",
              "0                            Braund, Mr. Owen Harris    male  22.0      1   \n",
              "1  Cumings, Mrs. John Bradley (Florence Briggs Th...  female  38.0      1   \n",
              "2                             Heikkinen, Miss. Laina  female  26.0      0   \n",
              "3       Futrelle, Mrs. Jacques Heath (Lily May Peel)  female  35.0      1   \n",
              "4                           Allen, Mr. William Henry    male  35.0      0   \n",
              "\n",
              "   Parch            Ticket     Fare Cabin Embarked  \n",
              "0      0         A/5 21171   7.2500   NaN        S  \n",
              "1      0          PC 17599  71.2833   C85        C  \n",
              "2      0  STON/O2. 3101282   7.9250   NaN        S  \n",
              "3      0            113803  53.1000  C123        S  \n",
              "4      0            373450   8.0500   NaN        S  "
            ],
            "text/html": [
              "\n",
              "  <div id=\"df-64e6c88a-a76b-4ef5-8552-9d72743bd1a1\" class=\"colab-df-container\">\n",
              "    <div>\n",
              "<style scoped>\n",
              "    .dataframe tbody tr th:only-of-type {\n",
              "        vertical-align: middle;\n",
              "    }\n",
              "\n",
              "    .dataframe tbody tr th {\n",
              "        vertical-align: top;\n",
              "    }\n",
              "\n",
              "    .dataframe thead th {\n",
              "        text-align: right;\n",
              "    }\n",
              "</style>\n",
              "<table border=\"1\" class=\"dataframe\">\n",
              "  <thead>\n",
              "    <tr style=\"text-align: right;\">\n",
              "      <th></th>\n",
              "      <th>PassengerId</th>\n",
              "      <th>Survived</th>\n",
              "      <th>Pclass</th>\n",
              "      <th>Name</th>\n",
              "      <th>Sex</th>\n",
              "      <th>Age</th>\n",
              "      <th>SibSp</th>\n",
              "      <th>Parch</th>\n",
              "      <th>Ticket</th>\n",
              "      <th>Fare</th>\n",
              "      <th>Cabin</th>\n",
              "      <th>Embarked</th>\n",
              "    </tr>\n",
              "  </thead>\n",
              "  <tbody>\n",
              "    <tr>\n",
              "      <th>0</th>\n",
              "      <td>1</td>\n",
              "      <td>0</td>\n",
              "      <td>3</td>\n",
              "      <td>Braund, Mr. Owen Harris</td>\n",
              "      <td>male</td>\n",
              "      <td>22.0</td>\n",
              "      <td>1</td>\n",
              "      <td>0</td>\n",
              "      <td>A/5 21171</td>\n",
              "      <td>7.2500</td>\n",
              "      <td>NaN</td>\n",
              "      <td>S</td>\n",
              "    </tr>\n",
              "    <tr>\n",
              "      <th>1</th>\n",
              "      <td>2</td>\n",
              "      <td>1</td>\n",
              "      <td>1</td>\n",
              "      <td>Cumings, Mrs. John Bradley (Florence Briggs Th...</td>\n",
              "      <td>female</td>\n",
              "      <td>38.0</td>\n",
              "      <td>1</td>\n",
              "      <td>0</td>\n",
              "      <td>PC 17599</td>\n",
              "      <td>71.2833</td>\n",
              "      <td>C85</td>\n",
              "      <td>C</td>\n",
              "    </tr>\n",
              "    <tr>\n",
              "      <th>2</th>\n",
              "      <td>3</td>\n",
              "      <td>1</td>\n",
              "      <td>3</td>\n",
              "      <td>Heikkinen, Miss. Laina</td>\n",
              "      <td>female</td>\n",
              "      <td>26.0</td>\n",
              "      <td>0</td>\n",
              "      <td>0</td>\n",
              "      <td>STON/O2. 3101282</td>\n",
              "      <td>7.9250</td>\n",
              "      <td>NaN</td>\n",
              "      <td>S</td>\n",
              "    </tr>\n",
              "    <tr>\n",
              "      <th>3</th>\n",
              "      <td>4</td>\n",
              "      <td>1</td>\n",
              "      <td>1</td>\n",
              "      <td>Futrelle, Mrs. Jacques Heath (Lily May Peel)</td>\n",
              "      <td>female</td>\n",
              "      <td>35.0</td>\n",
              "      <td>1</td>\n",
              "      <td>0</td>\n",
              "      <td>113803</td>\n",
              "      <td>53.1000</td>\n",
              "      <td>C123</td>\n",
              "      <td>S</td>\n",
              "    </tr>\n",
              "    <tr>\n",
              "      <th>4</th>\n",
              "      <td>5</td>\n",
              "      <td>0</td>\n",
              "      <td>3</td>\n",
              "      <td>Allen, Mr. William Henry</td>\n",
              "      <td>male</td>\n",
              "      <td>35.0</td>\n",
              "      <td>0</td>\n",
              "      <td>0</td>\n",
              "      <td>373450</td>\n",
              "      <td>8.0500</td>\n",
              "      <td>NaN</td>\n",
              "      <td>S</td>\n",
              "    </tr>\n",
              "  </tbody>\n",
              "</table>\n",
              "</div>\n",
              "    <div class=\"colab-df-buttons\">\n",
              "\n",
              "  <div class=\"colab-df-container\">\n",
              "    <button class=\"colab-df-convert\" onclick=\"convertToInteractive('df-64e6c88a-a76b-4ef5-8552-9d72743bd1a1')\"\n",
              "            title=\"Convert this dataframe to an interactive table.\"\n",
              "            style=\"display:none;\">\n",
              "\n",
              "  <svg xmlns=\"http://www.w3.org/2000/svg\" height=\"24px\" viewBox=\"0 -960 960 960\">\n",
              "    <path d=\"M120-120v-720h720v720H120Zm60-500h600v-160H180v160Zm220 220h160v-160H400v160Zm0 220h160v-160H400v160ZM180-400h160v-160H180v160Zm440 0h160v-160H620v160ZM180-180h160v-160H180v160Zm440 0h160v-160H620v160Z\"/>\n",
              "  </svg>\n",
              "    </button>\n",
              "\n",
              "  <style>\n",
              "    .colab-df-container {\n",
              "      display:flex;\n",
              "      gap: 12px;\n",
              "    }\n",
              "\n",
              "    .colab-df-convert {\n",
              "      background-color: #E8F0FE;\n",
              "      border: none;\n",
              "      border-radius: 50%;\n",
              "      cursor: pointer;\n",
              "      display: none;\n",
              "      fill: #1967D2;\n",
              "      height: 32px;\n",
              "      padding: 0 0 0 0;\n",
              "      width: 32px;\n",
              "    }\n",
              "\n",
              "    .colab-df-convert:hover {\n",
              "      background-color: #E2EBFA;\n",
              "      box-shadow: 0px 1px 2px rgba(60, 64, 67, 0.3), 0px 1px 3px 1px rgba(60, 64, 67, 0.15);\n",
              "      fill: #174EA6;\n",
              "    }\n",
              "\n",
              "    .colab-df-buttons div {\n",
              "      margin-bottom: 4px;\n",
              "    }\n",
              "\n",
              "    [theme=dark] .colab-df-convert {\n",
              "      background-color: #3B4455;\n",
              "      fill: #D2E3FC;\n",
              "    }\n",
              "\n",
              "    [theme=dark] .colab-df-convert:hover {\n",
              "      background-color: #434B5C;\n",
              "      box-shadow: 0px 1px 3px 1px rgba(0, 0, 0, 0.15);\n",
              "      filter: drop-shadow(0px 1px 2px rgba(0, 0, 0, 0.3));\n",
              "      fill: #FFFFFF;\n",
              "    }\n",
              "  </style>\n",
              "\n",
              "    <script>\n",
              "      const buttonEl =\n",
              "        document.querySelector('#df-64e6c88a-a76b-4ef5-8552-9d72743bd1a1 button.colab-df-convert');\n",
              "      buttonEl.style.display =\n",
              "        google.colab.kernel.accessAllowed ? 'block' : 'none';\n",
              "\n",
              "      async function convertToInteractive(key) {\n",
              "        const element = document.querySelector('#df-64e6c88a-a76b-4ef5-8552-9d72743bd1a1');\n",
              "        const dataTable =\n",
              "          await google.colab.kernel.invokeFunction('convertToInteractive',\n",
              "                                                    [key], {});\n",
              "        if (!dataTable) return;\n",
              "\n",
              "        const docLinkHtml = 'Like what you see? Visit the ' +\n",
              "          '<a target=\"_blank\" href=https://colab.research.google.com/notebooks/data_table.ipynb>data table notebook</a>'\n",
              "          + ' to learn more about interactive tables.';\n",
              "        element.innerHTML = '';\n",
              "        dataTable['output_type'] = 'display_data';\n",
              "        await google.colab.output.renderOutput(dataTable, element);\n",
              "        const docLink = document.createElement('div');\n",
              "        docLink.innerHTML = docLinkHtml;\n",
              "        element.appendChild(docLink);\n",
              "      }\n",
              "    </script>\n",
              "  </div>\n",
              "\n",
              "\n",
              "<div id=\"df-7eb4fda1-3ff9-487c-9d7c-2ef467d2f573\">\n",
              "  <button class=\"colab-df-quickchart\" onclick=\"quickchart('df-7eb4fda1-3ff9-487c-9d7c-2ef467d2f573')\"\n",
              "            title=\"Suggest charts\"\n",
              "            style=\"display:none;\">\n",
              "\n",
              "<svg xmlns=\"http://www.w3.org/2000/svg\" height=\"24px\"viewBox=\"0 0 24 24\"\n",
              "     width=\"24px\">\n",
              "    <g>\n",
              "        <path d=\"M19 3H5c-1.1 0-2 .9-2 2v14c0 1.1.9 2 2 2h14c1.1 0 2-.9 2-2V5c0-1.1-.9-2-2-2zM9 17H7v-7h2v7zm4 0h-2V7h2v10zm4 0h-2v-4h2v4z\"/>\n",
              "    </g>\n",
              "</svg>\n",
              "  </button>\n",
              "\n",
              "<style>\n",
              "  .colab-df-quickchart {\n",
              "      --bg-color: #E8F0FE;\n",
              "      --fill-color: #1967D2;\n",
              "      --hover-bg-color: #E2EBFA;\n",
              "      --hover-fill-color: #174EA6;\n",
              "      --disabled-fill-color: #AAA;\n",
              "      --disabled-bg-color: #DDD;\n",
              "  }\n",
              "\n",
              "  [theme=dark] .colab-df-quickchart {\n",
              "      --bg-color: #3B4455;\n",
              "      --fill-color: #D2E3FC;\n",
              "      --hover-bg-color: #434B5C;\n",
              "      --hover-fill-color: #FFFFFF;\n",
              "      --disabled-bg-color: #3B4455;\n",
              "      --disabled-fill-color: #666;\n",
              "  }\n",
              "\n",
              "  .colab-df-quickchart {\n",
              "    background-color: var(--bg-color);\n",
              "    border: none;\n",
              "    border-radius: 50%;\n",
              "    cursor: pointer;\n",
              "    display: none;\n",
              "    fill: var(--fill-color);\n",
              "    height: 32px;\n",
              "    padding: 0;\n",
              "    width: 32px;\n",
              "  }\n",
              "\n",
              "  .colab-df-quickchart:hover {\n",
              "    background-color: var(--hover-bg-color);\n",
              "    box-shadow: 0 1px 2px rgba(60, 64, 67, 0.3), 0 1px 3px 1px rgba(60, 64, 67, 0.15);\n",
              "    fill: var(--button-hover-fill-color);\n",
              "  }\n",
              "\n",
              "  .colab-df-quickchart-complete:disabled,\n",
              "  .colab-df-quickchart-complete:disabled:hover {\n",
              "    background-color: var(--disabled-bg-color);\n",
              "    fill: var(--disabled-fill-color);\n",
              "    box-shadow: none;\n",
              "  }\n",
              "\n",
              "  .colab-df-spinner {\n",
              "    border: 2px solid var(--fill-color);\n",
              "    border-color: transparent;\n",
              "    border-bottom-color: var(--fill-color);\n",
              "    animation:\n",
              "      spin 1s steps(1) infinite;\n",
              "  }\n",
              "\n",
              "  @keyframes spin {\n",
              "    0% {\n",
              "      border-color: transparent;\n",
              "      border-bottom-color: var(--fill-color);\n",
              "      border-left-color: var(--fill-color);\n",
              "    }\n",
              "    20% {\n",
              "      border-color: transparent;\n",
              "      border-left-color: var(--fill-color);\n",
              "      border-top-color: var(--fill-color);\n",
              "    }\n",
              "    30% {\n",
              "      border-color: transparent;\n",
              "      border-left-color: var(--fill-color);\n",
              "      border-top-color: var(--fill-color);\n",
              "      border-right-color: var(--fill-color);\n",
              "    }\n",
              "    40% {\n",
              "      border-color: transparent;\n",
              "      border-right-color: var(--fill-color);\n",
              "      border-top-color: var(--fill-color);\n",
              "    }\n",
              "    60% {\n",
              "      border-color: transparent;\n",
              "      border-right-color: var(--fill-color);\n",
              "    }\n",
              "    80% {\n",
              "      border-color: transparent;\n",
              "      border-right-color: var(--fill-color);\n",
              "      border-bottom-color: var(--fill-color);\n",
              "    }\n",
              "    90% {\n",
              "      border-color: transparent;\n",
              "      border-bottom-color: var(--fill-color);\n",
              "    }\n",
              "  }\n",
              "</style>\n",
              "\n",
              "  <script>\n",
              "    async function quickchart(key) {\n",
              "      const quickchartButtonEl =\n",
              "        document.querySelector('#' + key + ' button');\n",
              "      quickchartButtonEl.disabled = true;  // To prevent multiple clicks.\n",
              "      quickchartButtonEl.classList.add('colab-df-spinner');\n",
              "      try {\n",
              "        const charts = await google.colab.kernel.invokeFunction(\n",
              "            'suggestCharts', [key], {});\n",
              "      } catch (error) {\n",
              "        console.error('Error during call to suggestCharts:', error);\n",
              "      }\n",
              "      quickchartButtonEl.classList.remove('colab-df-spinner');\n",
              "      quickchartButtonEl.classList.add('colab-df-quickchart-complete');\n",
              "    }\n",
              "    (() => {\n",
              "      let quickchartButtonEl =\n",
              "        document.querySelector('#df-7eb4fda1-3ff9-487c-9d7c-2ef467d2f573 button');\n",
              "      quickchartButtonEl.style.display =\n",
              "        google.colab.kernel.accessAllowed ? 'block' : 'none';\n",
              "    })();\n",
              "  </script>\n",
              "</div>\n",
              "    </div>\n",
              "  </div>\n"
            ],
            "application/vnd.google.colaboratory.intrinsic+json": {
              "type": "dataframe",
              "variable_name": "titanic",
              "summary": "{\n  \"name\": \"titanic\",\n  \"rows\": 891,\n  \"fields\": [\n    {\n      \"column\": \"PassengerId\",\n      \"properties\": {\n        \"dtype\": \"number\",\n        \"std\": 257,\n        \"min\": 1,\n        \"max\": 891,\n        \"num_unique_values\": 891,\n        \"samples\": [\n          710,\n          440,\n          841\n        ],\n        \"semantic_type\": \"\",\n        \"description\": \"\"\n      }\n    },\n    {\n      \"column\": \"Survived\",\n      \"properties\": {\n        \"dtype\": \"number\",\n        \"std\": 0,\n        \"min\": 0,\n        \"max\": 1,\n        \"num_unique_values\": 2,\n        \"samples\": [\n          1,\n          0\n        ],\n        \"semantic_type\": \"\",\n        \"description\": \"\"\n      }\n    },\n    {\n      \"column\": \"Pclass\",\n      \"properties\": {\n        \"dtype\": \"number\",\n        \"std\": 0,\n        \"min\": 1,\n        \"max\": 3,\n        \"num_unique_values\": 3,\n        \"samples\": [\n          3,\n          1\n        ],\n        \"semantic_type\": \"\",\n        \"description\": \"\"\n      }\n    },\n    {\n      \"column\": \"Name\",\n      \"properties\": {\n        \"dtype\": \"string\",\n        \"num_unique_values\": 891,\n        \"samples\": [\n          \"Moubarek, Master. Halim Gonios (\\\"William George\\\")\",\n          \"Kvillner, Mr. Johan Henrik Johannesson\"\n        ],\n        \"semantic_type\": \"\",\n        \"description\": \"\"\n      }\n    },\n    {\n      \"column\": \"Sex\",\n      \"properties\": {\n        \"dtype\": \"category\",\n        \"num_unique_values\": 2,\n        \"samples\": [\n          \"female\",\n          \"male\"\n        ],\n        \"semantic_type\": \"\",\n        \"description\": \"\"\n      }\n    },\n    {\n      \"column\": \"Age\",\n      \"properties\": {\n        \"dtype\": \"number\",\n        \"std\": 14.526497332334044,\n        \"min\": 0.42,\n        \"max\": 80.0,\n        \"num_unique_values\": 88,\n        \"samples\": [\n          0.75,\n          22.0\n        ],\n        \"semantic_type\": \"\",\n        \"description\": \"\"\n      }\n    },\n    {\n      \"column\": \"SibSp\",\n      \"properties\": {\n        \"dtype\": \"number\",\n        \"std\": 1,\n        \"min\": 0,\n        \"max\": 8,\n        \"num_unique_values\": 7,\n        \"samples\": [\n          1,\n          0\n        ],\n        \"semantic_type\": \"\",\n        \"description\": \"\"\n      }\n    },\n    {\n      \"column\": \"Parch\",\n      \"properties\": {\n        \"dtype\": \"number\",\n        \"std\": 0,\n        \"min\": 0,\n        \"max\": 6,\n        \"num_unique_values\": 7,\n        \"samples\": [\n          0,\n          1\n        ],\n        \"semantic_type\": \"\",\n        \"description\": \"\"\n      }\n    },\n    {\n      \"column\": \"Ticket\",\n      \"properties\": {\n        \"dtype\": \"string\",\n        \"num_unique_values\": 681,\n        \"samples\": [\n          \"11774\",\n          \"248740\"\n        ],\n        \"semantic_type\": \"\",\n        \"description\": \"\"\n      }\n    },\n    {\n      \"column\": \"Fare\",\n      \"properties\": {\n        \"dtype\": \"number\",\n        \"std\": 49.693428597180905,\n        \"min\": 0.0,\n        \"max\": 512.3292,\n        \"num_unique_values\": 248,\n        \"samples\": [\n          11.2417,\n          51.8625\n        ],\n        \"semantic_type\": \"\",\n        \"description\": \"\"\n      }\n    },\n    {\n      \"column\": \"Cabin\",\n      \"properties\": {\n        \"dtype\": \"category\",\n        \"num_unique_values\": 147,\n        \"samples\": [\n          \"D45\",\n          \"B49\"\n        ],\n        \"semantic_type\": \"\",\n        \"description\": \"\"\n      }\n    },\n    {\n      \"column\": \"Embarked\",\n      \"properties\": {\n        \"dtype\": \"category\",\n        \"num_unique_values\": 3,\n        \"samples\": [\n          \"S\",\n          \"C\"\n        ],\n        \"semantic_type\": \"\",\n        \"description\": \"\"\n      }\n    }\n  ]\n}"
            }
          },
          "metadata": {},
          "execution_count": 24
        }
      ],
      "source": [
        "titanic = pd.read_csv(\"train.csv\")\n",
        "titanic.head()"
      ]
    },
    {
      "cell_type": "markdown",
      "metadata": {
        "id": "AQTWh2U-eJth"
      },
      "source": [
        "Для лучшего понимания процесса работы с данными, уточним ключевые термины.\n",
        "\n",
        "> **Объект** — это единица данных, представленная набором признаков и используемая для обучения или предсказаний модели. В данной задаче являются пассажиры, им соответствуют *строки* таблицы данных.\n",
        ">\n",
        "> **Признаки (features)** — это характеристики, которые описывают объекты в данных. В таблицах данных они обычно соответствуют *колонкам*. В данной задаче мы будем работать со следующими признаками\n",
        ">\n",
        "> * `Pclass` — класс билета (1 = первый класс, 2 = второй класс, 3 = третий класс);\n",
        ">\n",
        "> * `Age` — возраст пассажира;\n",
        ">\n",
        "> * `SibSp` — количество братьев, сестер или супругов на борту;\n",
        ">\n",
        "> * `Parch` — количество родителей или детей на борту;\n",
        ">\n",
        "> * `Fare` — стоимость билета.\n",
        ">\n",
        "> **Таргет (target)** — это целевая переменная, которую мы хотим предсказать. В данной задаче мы будем предсказывать `Survived` — бинарная переменная, указывающая, выжил ли пассажир (1) или нет (0). Значения этой переменной имеются для обучающего набора данных, а для тестого — нет.\n",
        "\n",
        "Из каждой части оставим несколько признаков, с которыми мы будем работать, а также отдельно &mdash; целевой признак, который мы хотим предсказать."
      ]
    },
    {
      "cell_type": "code",
      "execution_count": 25,
      "metadata": {
        "id": "1pA6iDn8oRwi"
      },
      "outputs": [],
      "source": [
        "features_columns = [\"Pclass\", \"Age\", \"Sex\", \"SibSp\", \"Parch\", \"Fare\"]\n",
        "target_column = \"Survived\"  # Целевой признак"
      ]
    },
    {
      "cell_type": "markdown",
      "metadata": {
        "id": "bvfsk5Xx5tMx"
      },
      "source": [
        "В данных могут присутствовать пропуски. Пока что мы не умеем с ними работать, так что исключим из данных.\n",
        "\n",
        "Посмотрите, сколько объектов имеют хотя бы один пропуск. Удалите их из данных."
      ]
    },
    {
      "cell_type": "code",
      "execution_count": 26,
      "metadata": {
        "id": "rz5NYRh55rlj",
        "colab": {
          "base_uri": "https://localhost:8080/"
        },
        "outputId": "b174dce3-8d51-46c8-f143-7ebcc152ebb1"
      },
      "outputs": [
        {
          "output_type": "stream",
          "name": "stdout",
          "text": [
            "177\n"
          ]
        }
      ],
      "source": [
        "titanic_correct = titanic.dropna(subset=[*features_columns,target_column])\n",
        "X, y = titanic_correct[features_columns], titanic_correct[target_column]\n",
        "print(titanic.shape[0] - titanic_correct.shape[0]) #вычел из предыдущего числа столбцов число столбцов с некорректными данными"
      ]
    },
    {
      "cell_type": "markdown",
      "metadata": {
        "id": "osxYYeFXeSKl"
      },
      "source": [
        "Разделите данные по строкам на две части случайным образом в соотношении 7:3. Первую часть мы будем называть *обучающей*, а вторую &mdash; *тестовой*."
      ]
    },
    {
      "cell_type": "code",
      "execution_count": 27,
      "metadata": {
        "id": "-AcX9JcseSnJ"
      },
      "outputs": [],
      "source": [
        "X_train, X_test, y_train, y_test = train_test_split(X, y, train_size=0.7, random_state=random_state)"
      ]
    },
    {
      "cell_type": "markdown",
      "metadata": {
        "ai_eval_tool": {
          "snippet_hash": "371b31e8ca86989a98cce342afcbbf2a",
          "snippet_label": "start"
        },
        "id": "ofn7oGpgCcAI"
      },
      "source": [
        "<!-- Внимание! Здесь находится специальная отметка. Ее нельзя удалять! Ответы на вопросы / выводы для предыдущего пункта(ов) пиши в ячейках выше! -->\n",
        "<!-- 371b31e8ca86989a98cce342afcbbf2a -->\n",
        "#### 1. Исследование\n",
        "\n",
        "> &#x2757; **Внимание.** Эта часть задачи должна выполняться *исключительно на обучающих данных*. За использование тестовых данных решение не будет оценено.\n",
        "\n",
        "Проведите визуальный анализ данных чтобы понять, как различные признаки влияют на целевой. Исследовать можно не целиком обучающие данные, а разделить их на две части по одному из признаков, а далее рассматривать каждую часть отдельно.\n",
        "\n",
        "*Не забывайте про информативность и эстетичность графиков, посмотрите презентацию про оформление домашних заданий.*"
      ]
    },
    {
      "cell_type": "markdown",
      "source": [
        "**Посмотрим на выживаемость взависимости от гендера**"
      ],
      "metadata": {
        "id": "SP3WlC-1-YI8"
      }
    },
    {
      "cell_type": "code",
      "execution_count": 28,
      "metadata": {
        "ai_eval_tool": {
          "snippet_hash": "371b31e8ca86989a98cce342afcbbf2a",
          "snippet_label": "end"
        },
        "id": "LkIm5g5yChw7",
        "colab": {
          "base_uri": "https://localhost:8080/",
          "height": 584
        },
        "outputId": "37731bb6-d7fd-4428-dabe-975ae30bea62"
      },
      "outputs": [
        {
          "output_type": "display_data",
          "data": {
            "text/plain": [
              "<Figure size 800x600 with 1 Axes>"
            ],
            "image/png": "[encoded data removed]"
          },
          "metadata": {}
        }
      ],
      "source": [
        "## Сначала посмотрим на данные взависимости от пола, т.е на выживших мужчин и женщин\n",
        "X_alive = X_train[y_train.loc[X_train.index] == 1]\n",
        "X_died = X_train[y_train.loc[X_train.index] == 0]\n",
        "X_train_alive_man = X_train[(X_train['Sex'] == 'male') & (y_train.loc[X_train.index] == 1)]\n",
        "X_train_noalive_man = X_train[(X_train['Sex'] == 'male') & (y_train.loc[X_train.index] == 0)]\n",
        "X_train_alive_woman = X_train[(X_train['Sex'] == 'female') & (y_train.loc[X_train.index] == 1)]\n",
        "X_train_noalive_woman = X_train[(X_train['Sex'] == 'female') & (y_train.loc[X_train.index] == 0)]\n",
        "\n",
        "data = [X_train_alive_man.shape[0]/(X_train_noalive_man.shape[0]+X_train_alive_man.shape[0]), X_train_noalive_man.shape[0]/(X_train_noalive_man.shape[0]+X_train_alive_man.shape[0]), X_train_alive_woman.shape[0]/(X_train_noalive_woman.shape[0]+X_train_alive_woman.shape[0]), X_train_noalive_woman.shape[0]/(X_train_noalive_woman.shape[0]+X_train_alive_woman.shape[0])]\n",
        "plt.figure(figsize=(8, 6))  # Размер графика\n",
        "\n",
        "plt.bar(range(len(data)), data, color='skyblue', edgecolor='black')  # Гистограмма\n",
        "\n",
        "# Настройка осей и подписей\n",
        "plt.xticks(range(len(data)), labels=['Выжившие М', 'Мертвые М', 'Выжившие Ж', 'Мертвые Ж'])  # Подписи по оси X\n",
        "plt.xlabel('Категории', fontsize=12)\n",
        "plt.ylabel('Отношение к числу людей своего пола', fontsize=12)\n",
        "plt.title('Зависимость от пола утопающего', fontsize=14, pad=20)\n",
        "\n",
        "# Добавление сетки\n",
        "plt.grid(axis='y', linestyle='--', alpha=0.7)\n",
        "\n",
        "# Показать график\n",
        "plt.show()\n"
      ]
    },
    {
      "cell_type": "markdown",
      "source": [
        "**Посмотрим выживаемость мужчин взависимости от возраста и цены билета**"
      ],
      "metadata": {
        "id": "B-dhE0-v-QYy"
      }
    },
    {
      "cell_type": "code",
      "source": [
        "\n",
        "\n",
        "plt.figure(figsize=(8, 6))\n",
        "plt.xlabel('Возраст', fontsize=12)\n",
        "plt.ylabel('Цена билета', fontsize=12)\n",
        "plt.scatter(X_alive['Age'], X_alive['Fare'], alpha = 0.5, label=\"Выжившие мужчины\")\n",
        "plt.scatter(X_died['Age'], X_died['Fare'], alpha = 0.5, label='Погибшие мужчины')\n",
        "plt.legend(loc='upper right')"
      ],
      "metadata": {
        "colab": {
          "base_uri": "https://localhost:8080/",
          "height": 560
        },
        "id": "VjilXi0zGQ4z",
        "outputId": "39a43bb2-8bec-4cca-a819-bc0e642d0d21"
      },
      "execution_count": 29,
      "outputs": [
        {
          "output_type": "execute_result",
          "data": {
            "text/plain": [
              "<matplotlib.legend.Legend at 0x7c7acd632650>"
            ]
          },
          "metadata": {},
          "execution_count": 29
        },
        {
          "output_type": "display_data",
          "data": {
            "text/plain": [
              "<Figure size 800x600 with 1 Axes>"
            ],
            "image/png": "[encoded data removed]"
          },
          "metadata": {}
        }
      ]
    },
    {
      "cell_type": "markdown",
      "metadata": {
        "ai_eval_tool": {
          "snippet_hash": "476dce11b8cac8705a10bff695e4cdee",
          "snippet_label": "start"
        },
        "id": "Phh0aDWIBOKO"
      },
      "source": [
        "<!-- Внимание! Здесь находится специальная отметка. Ее нельзя удалять! Ответы на вопросы / выводы для предыдущего пункта(ов) пиши в ячейках выше! -->\n",
        "<!-- 476dce11b8cac8705a10bff695e4cdee -->\n",
        "#### 2. Классификация логическими правилами\n",
        "\n",
        "На основе выше проведенного исследования предложите два разных правила в виде решающего дерева, пример которого можете посмотреть в презентации с первой лекции (классификация котиков). Никакие статистические методы использовать не требуется, только логику и графики. Любые решения \"из коробки\" использовать запрещено. Например, достаточно пояснения \"*по графику (описание графика) визуально я увидел, что при X > 100 большинство пассажиров выжило, поэтому использую правило (описание правила)*\".\n",
        "\n",
        "В данной задаче достаточно, если первое дерево будет иметь максимальную глубину 2, а второе &mdash; глубину 1, и при этом не является поддеревом первого. Дерево из одного листа имеет глубину 0.\n",
        "\n",
        "*Указание*. Попросите ИИ красиво оформить описание дерева и его пояснение.\n",
        "\n",
        "**Дерево 1:**\n",
        "\n",
        " Первому дереву будет соответствовать второе распределение точек. По графику можем заметить, что дети до 10 лет выживают с большей вероятностью на train выборке, поэтому в решающем дереве при признаке age < 10 сразу предполагается, что с большой долей вероятности человек выживет. При этом, если возраст больше 10 лет на распределение точек очень сильно начинает влиять цена билета, как мы видим, среди погибших огромное количество людей купивших билет менее чем за 50 единиц валюты и в этой области заметно преобладает число погибших среди купивших билет за эту цену, однако, если обратить внимание, можно заметить, что люди купившие билет за более чем 50 единиц валюты в большинстве своем выжили. Поэтому я получил следующее дерево глубины 2.\n",
        "\n",
        "**Дерево 2:**\n",
        "\n",
        "Если обратить внимание на гистограммы, можно заметить, что 80% женщин выживает, при этом 80% мужчин погибает, поэтому я получил решающее дерево глубины 1, которое делает вывод взависимости от гендера утопающего."
      ]
    },
    {
      "cell_type": "markdown",
      "metadata": {
        "id": "Yg3O6JYz4EON"
      },
      "source": [
        "Реализуйте полученные деревья по шаблону"
      ]
    },
    {
      "cell_type": "code",
      "execution_count": 30,
      "metadata": {
        "ai_eval_tool": {
          "snippet_hash": "476dce11b8cac8705a10bff695e4cdee",
          "snippet_label": "end"
        },
        "id": "ovqn-0u0BSsA"
      },
      "outputs": [],
      "source": [
        "\n",
        "\n",
        "def tree_age_fair(features: pd.DataFrame) -> pd.Series:\n",
        "    \"\"\"\n",
        "    Предсказание целевого признака для данных features -- pandas-таблица данных.\n",
        "    Возвращает pandas.Series с теми же индексами, что и у features.\n",
        "\n",
        "    Логика предсказания:\n",
        "    - Если возраст (Age) меньше 10, предсказание = 1.\n",
        "    - Если стоимость билета (Fare) больше 50, предсказание = 1.\n",
        "    - В остальных случаях предсказание = 0.\n",
        "    \"\"\"\n",
        "    # Создаем пустой Series для хранения предсказаний с теми же индексами, что и features\n",
        "    predicted = pd.Series(index=features.index, dtype=int)\n",
        "\n",
        "    # Проходим по каждой строке в DataFrame\n",
        "    for i in features.index:\n",
        "        # Проверяем условие: если возраст меньше 10\n",
        "        if features.loc[i][\"Age\"] < 10:\n",
        "            predicted.loc[i] = 1  # Предсказание = 1\n",
        "        # Проверяем условие: если стоимость билета больше 50\n",
        "        elif features.loc[i][\"Fare\"] > 50:\n",
        "            predicted.loc[i] = 1  # Предсказание = 1\n",
        "        # Если ни одно из условий не выполнено\n",
        "        else:\n",
        "            predicted.loc[i] = 0  # Предсказание = 0\n",
        "\n",
        "    # Возвращаем Series с предсказаниями\n",
        "    return predicted\n"
      ]
    },
    {
      "cell_type": "code",
      "source": [
        "\n",
        "\n",
        "def tree_gender(features: pd.DataFrame) -> pd.Series:\n",
        "    \"\"\"\n",
        "    Предсказание целевого признака на основе пола (Sex) для данных features -- pandas-таблица данных.\n",
        "    Возвращает pandas.Series с теми же индексами, что и у features.\n",
        "\n",
        "    Логика предсказания:\n",
        "    - Если пол (Sex) равен 'female', предсказание = 1.\n",
        "    - В остальных случаях предсказание = 0.\n",
        "    \"\"\"\n",
        "    # Создаем пустой Series для хранения предсказаний с теми же индексами, что и features\n",
        "    predicted = pd.Series(index=features.index, dtype=int)\n",
        "\n",
        "    # Проходим по каждой строке в DataFrame\n",
        "    for i in features.index:\n",
        "        # Проверяем условие: если пол равен 'female'\n",
        "        if features.loc[i][\"Sex\"] == 'female':\n",
        "            predicted.loc[i] = 1  # Предсказание = 1\n",
        "        # Если условие не выполнено\n",
        "        else:\n",
        "            predicted.loc[i] = 0  # Предсказание = 0\n",
        "\n",
        "    # Возвращаем Series с предсказаниями\n",
        "    return predicted"
      ],
      "metadata": {
        "id": "ZszgBP_kNE15"
      },
      "execution_count": 31,
      "outputs": []
    },
    {
      "cell_type": "markdown",
      "metadata": {
        "ai_eval_tool": {
          "snippet_hash": "509cca15393d5b0fb3cf40b463d12077",
          "snippet_label": "start"
        },
        "id": "1AqlNknxF4vL"
      },
      "source": [
        "<!-- Внимание! Здесь находится специальная отметка. Ее нельзя удалять! Ответы на вопросы / выводы для предыдущего пункта(ов) пиши в ячейках выше! -->\n",
        "<!-- 509cca15393d5b0fb3cf40b463d12077 -->\n",
        "Проверьте работоспособность данных моделей на тестовой выборке и оцените качество модели по метрике `accuracy`.\n",
        "\n",
        "> &#x2755; *Примечание.* Полученные значения не влияют на оценку по заданию. Оценивается только корректность и обоснованность решения, а также графики и выводы."
      ]
    },
    {
      "cell_type": "code",
      "execution_count": 32,
      "metadata": {
        "id": "_f6OznrD9foG"
      },
      "outputs": [],
      "source": [
        "def accuracy(target: pd.Series, predicted: pd.Series) -> float:\n",
        "    \"\"\"\n",
        "    Вычисление критерия качества для предсказания predicted,\n",
        "    если истинные значения -- target.\n",
        "    Возвращает одно вещественное число.\n",
        "    \"\"\"\n",
        "    counter = 0;\n",
        "    for i in target.index:\n",
        "      counter += (target.loc[i] == predicted.loc[i])\n",
        "    return counter/target.shape[0];"
      ]
    },
    {
      "cell_type": "code",
      "execution_count": 33,
      "metadata": {
        "ai_eval_tool": {
          "snippet_hash": "509cca15393d5b0fb3cf40b463d12077",
          "snippet_label": "end"
        },
        "id": "yhpCxMFgFrMx",
        "colab": {
          "base_uri": "https://localhost:8080/"
        },
        "outputId": "70173942-4e01-4411-e474-b9a3585b9f1b"
      },
      "outputs": [
        {
          "output_type": "stream",
          "name": "stdout",
          "text": [
            "0.6790697674418604\n",
            "0.7534883720930232\n"
          ]
        }
      ],
      "source": [
        "y_pred_age = tree_age_fair(X_test)\n",
        "print(accuracy(y_test, y_pred_age))\n",
        "y_pred_gender = tree_gender(X_test)\n",
        "print(accuracy(y_test, y_pred_gender))"
      ]
    },
    {
      "cell_type": "markdown",
      "metadata": {
        "ai_eval_tool": {
          "snippet_hash": "2bf781f25f8969f7e712ea5d28d608a3",
          "snippet_label": "end"
        },
        "id": "puAaPMQX7P3q"
      },
      "source": [
        "<!-- Внимание! Здесь находится специальная отметка. Ее нельзя удалять! Ответы на вопросы / выводы для предыдущего пункта(ов) пиши в ячейках выше! -->\n",
        "<!-- 2bf781f25f8969f7e712ea5d28d608a3 -->\n",
        "#### 3. Классификация методом ближайшего соседа\n",
        "\n",
        "В данной части задачи оставим только признаки `'Pclass'`, `'Age'`, `'Sex'`,`'Fare'`.\n",
        "\n",
        "\n",
        "&#x2753; **Вопрос** &#x2753;\n",
        "> Какие могли бы возникнуть проблемы при использовании признаков `'SibSp'`, `'Parch'`? Имеется ли подобная проблема для признака `'Pclass'`?\n",
        "\n",
        "**Ваш ответ:** Мне кажется что признаки являются неудобными в изучении относительно 'Fare', потому что расстояние 'Fare' является наиболее решающим из-за большего домена, поэтому наверное Pclass аналогичным образом тяжело анализировать в этой ситуации."
      ]
    },
    {
      "cell_type": "markdown",
      "metadata": {
        "ai_eval_tool": {
          "snippet_hash": "3bfbe10cf933e1302c2f524a99acfa54",
          "snippet_label": "start"
        },
        "id": "SvhX9x7MfneJ"
      },
      "source": [
        "<!-- Внимание! Здесь находится специальная отметка. Ее нельзя удалять! Ответы на вопросы / выводы для предыдущего пункта(ов) пиши в ячейках выше! -->\n",
        "<!-- 3bfbe10cf933e1302c2f524a99acfa54 -->\n",
        "Постройте классификатор методом ближайшего соседа. Обучите его и оцените качество модели. Сравните с предыдущим методом.\n",
        "\n",
        "Пока никаких преобразований данных делать не нужно.\n",
        "\n",
        "\n"
      ]
    },
    {
      "cell_type": "code",
      "execution_count": 34,
      "metadata": {
        "ai_eval_tool": {
          "snippet_hash": "3bfbe10cf933e1302c2f524a99acfa54",
          "snippet_label": "end"
        },
        "id": "VWWVQ2_4fn1q"
      },
      "outputs": [],
      "source": [
        "#функции для пункта 3, чтобы ниже ими не спамить\n",
        "\n",
        "def Scatter_titanic(k, res_test):\n",
        "    plt.figure()\n",
        "    plt.scatter(k, res_test)\n",
        "    plt.xlabel('Значения гиперпараметра k')\n",
        "    plt.ylabel('Accuracy для тестовых данных')\n",
        "    plt.legend()\n",
        "    plt.show()\n",
        "\n",
        "def Accuracystats_titanic_withoutminmax(X_test, X_train, y_train, y_test):\n",
        "  accuracy_by_k = []\n",
        "  for i in range(1, 21):\n",
        "    model = KNeighborsClassifier(n_neighbors=i, algorithm=\"brute\",p = 2)\n",
        "    model.fit(X_train, y_train)\n",
        "    y_pred = model.predict(X_test)\n",
        "    score = accuracy_score(y_test, y_pred)\n",
        "    accuracy_by_k.append(score)\n",
        "  stats = np.array(accuracy_by_k)\n",
        "  return stats\n",
        "\n",
        "def Accuracystats_with_preprocessing(data_X_test, data_X_train, y_train, y_test, key):\n",
        "  data_X = {\n",
        "      \"train\":data_X_train,\n",
        "      \"test\":data_X_test\n",
        "  }\n",
        "  data_Y = {\n",
        "      \"train\":y_train,\n",
        "      \"test\":y_test\n",
        "  }\n",
        "  accuracy_by_k = []\n",
        "  for i in range(1, 21):\n",
        "    model = KNeighborsClassifier(n_neighbors=i, algorithm=\"brute\",p = 2)\n",
        "    model.fit(data_X_train, y_train)\n",
        "    y_pred = model.predict(data_X[key])\n",
        "    score = accuracy_score(data_Y[key], y_pred)\n",
        "    accuracy_by_k.append(score)\n",
        "  stats = np.array(accuracy_by_k)\n",
        "  return stats"
      ]
    },
    {
      "cell_type": "code",
      "source": [
        "##KNN without minmax\n",
        "features_columns = [\"Pclass\", \"Age\", \"Sex\", \"Fare\"]\n",
        "target_column = \"Survived\" # целевой признак, т.е тот который мы хотим предсказывать\n",
        "\n",
        "X, y = titanic_correct[features_columns], titanic_correct[target_column]\n",
        "\n",
        "X.loc[X['Sex'] == 'male', 'Sex'] = 0\n",
        "X.loc[X['Sex'] == 'female', 'Sex'] = 1\n",
        "\n",
        "X_train, X_test, y_train, y_test = train_test_split(X, y, train_size=0.7, random_state=42)\n",
        "\n",
        "stats = Accuracystats_titanic_withoutminmax(np.array(X_test), np.array(X_train), np.array(y_train),np.array(y_test))\n",
        "\n",
        "Scatter_titanic(k, stats)"
      ],
      "metadata": {
        "colab": {
          "base_uri": "https://localhost:8080/",
          "height": 557
        },
        "id": "bO_4BV16Zjk4",
        "outputId": "70d02835-8229-4071-9022-32ced1afc363"
      },
      "execution_count": 35,
      "outputs": [
        {
          "output_type": "stream",
          "name": "stderr",
          "text": [
            "<ipython-input-34-52bb8b2f0e52>:8: UserWarning: No artists with labels found to put in legend.  Note that artists whose label start with an underscore are ignored when legend() is called with no argument.\n",
            "  plt.legend()\n"
          ]
        },
        {
          "output_type": "display_data",
          "data": {
            "text/plain": [
              "<Figure size 800x550 with 1 Axes>"
            ],
            "image/png": "[encoded data removed]"
          },
          "metadata": {}
        }
      ]
    },
    {
      "cell_type": "markdown",
      "source": [
        "Можем заметить, что результат в данном случае в самом оптимально подобранном $k$ все равно работает с большей ошибкой, чем классификация по признаку \"Sex\"."
      ],
      "metadata": {
        "id": "xUeXZ7dlnUE9"
      }
    },
    {
      "cell_type": "markdown",
      "metadata": {
        "ai_eval_tool": {
          "snippet_hash": "21227e76b996f62c6c83ee38ce486bdf",
          "snippet_label": "start"
        },
        "id": "QpLg-Q6lHcwU"
      },
      "source": [
        "<!-- Внимание! Здесь находится специальная отметка. Ее нельзя удалять! Ответы на вопросы / выводы для предыдущего пункта(ов) пиши в ячейках выше! -->\n",
        "<!-- 21227e76b996f62c6c83ee38ce486bdf -->\n",
        "Попробуем улучшить результаты предсказаний, для этого надо сначала посмотреть на сами данные. Выведите значение минимального и максимального объекта для каждого признака."
      ]
    },
    {
      "cell_type": "code",
      "execution_count": 36,
      "metadata": {
        "id": "cm-r7Lcafo1a",
        "colab": {
          "base_uri": "https://localhost:8080/"
        },
        "outputId": "9d213262-5453-4ff6-836a-01dbf31540e6"
      },
      "outputs": [
        {
          "output_type": "stream",
          "name": "stdout",
          "text": [
            "Pclass      3.0\n",
            "Age        80.0\n",
            "Sex         1.0\n",
            "Fare      263.0\n",
            "dtype: float64\n",
            "Pclass    1.00\n",
            "Age       0.67\n",
            "Sex       0.00\n",
            "Fare      0.00\n",
            "dtype: float64\n"
          ]
        }
      ],
      "source": [
        "print(X_train.apply(max)) #вывод максимального для каждого столбца\n",
        "print(X_train.apply(min)) #вывод минимального для каждого столбца"
      ]
    },
    {
      "cell_type": "markdown",
      "metadata": {
        "id": "1i8dxxH3uk9v"
      },
      "source": [
        "Как мы видим данные в каждом столбце распределены очень по-разному.\n",
        "\n",
        "&#x2753; **Вопрос** &#x2753;\n",
        "> Как это может повлиять на работу kNN, почему?\n",
        "\n",
        "**Ваш ответ:**  ...\n"
      ]
    },
    {
      "cell_type": "markdown",
      "source": [
        "По сравнению с Age Pclass (например), будет давать очень маленькие расстояния (т.е разброс по одной из осей будет очень большой), и будет работать так, что Age учитывается сильнее, чем Pclass или же Sex, хотя мы могли заметить, строя решающее дерево, что тот же Sex - довольно важный признак."
      ],
      "metadata": {
        "id": "POHUkvddqBzu"
      }
    },
    {
      "cell_type": "markdown",
      "metadata": {
        "id": "GLr8AdnSIG7S"
      },
      "source": [
        "Для решения этой проблемы нужно привести признаки к единому масштабу. Существует много методов масштабирования рассмотрим работу одного из них &mdash; **минимаксная нормализация**\n",
        "\n",
        "  \n",
        "> **Минимакс** &mdash; линейное преобразование данных в диапазоне $[0, 1]$, где минимальное и максимальное масштабируемые значения соответствуют 0 и 1 соответственно.\n",
        "> Реализуется оно по следующей формуле:\n",
        ">\n",
        "> $$\\widetilde{x}_{ij} = \\frac{x_{ij} - m_j}{M_j - m_j}$$\n",
        ">\n",
        "> где $x_{ij}$ &mdash; значение признака $j$ для объекта $i$, а $m_j$ и $M_j$ &mdash; минимальное и максимальное значения признака $j$ в обучающем наборе данных.  \n",
        "> В модуле `sklearn.preprocessing` есть [класс](https://scikit-learn.org/stable/modules/generated/sklearn.preprocessing.MinMaxScaler.html) `MinMaxScaler`, который реализует эту операцию. Давайте рассмотрим методы этого класса подробнее:\n",
        ">\n",
        "> * `fit(X)`: вычисляет минимальные и максимальные значения для каждого признака.\n",
        ">\n",
        "> * `transform(X)`: применяет масштабирование к данным.\n",
        ">\n",
        "> * `fit_transform(X)`: объединяет оба метода, сначала подгоняя модель, а затем трансформируя данные.\n",
        ">\n",
        "> * `inverse_transform(X)`: восстанавливает исходные данные из масштабированных.\n",
        "\n",
        "\n",
        "Стоит отметить что существуют и другие методы масштабирования данных."
      ]
    },
    {
      "cell_type": "markdown",
      "metadata": {
        "ai_eval_tool": {
          "snippet_hash": "21227e76b996f62c6c83ee38ce486bdf",
          "snippet_label": "end"
        },
        "id": "qGN85R3LusZv"
      },
      "source": [
        "&#x2753; **Вопрос** &#x2753;\n",
        "> В чем может быть недостаток такого метода масштабирования?\n",
        "\n",
        "**Ваш ответ:** ...\n"
      ]
    },
    {
      "cell_type": "markdown",
      "source": [
        "При больших разбросах данных, огромное число данных будет у 0 и единицы, также выбросы могут очень сильно искажать данные, что будет влиять на прямую формулу пересчета. Также как будто относительность у некоторых параметроов теряется, а это может быть важно для конкретной задачи"
      ],
      "metadata": {
        "id": "uLeak21auNA4"
      }
    },
    {
      "cell_type": "markdown",
      "metadata": {
        "ai_eval_tool": {
          "snippet_hash": "3cf8b0b6b0402c9ceb439c2de6ee4276",
          "snippet_label": "start"
        },
        "id": "3E--mcozuxRD"
      },
      "source": [
        "<!-- Внимание! Здесь находится специальная отметка. Ее нельзя удалять! Ответы на вопросы / выводы для предыдущего пункта(ов) пиши в ячейках выше! -->\n",
        "<!-- 3cf8b0b6b0402c9ceb439c2de6ee4276 -->\n",
        "\n",
        "\n",
        "Отмасштабируйте данные"
      ]
    },
    {
      "cell_type": "code",
      "execution_count": 37,
      "metadata": {
        "id": "iOqCmb18oRz_"
      },
      "outputs": [],
      "source": [
        "  transformer = MinMaxScaler()\n",
        "  transformer.fit(X_train)\n",
        "  data_X_train = transformer.transform(X_train)\n",
        "  data_X_test = transformer.transform(X_test)"
      ]
    },
    {
      "cell_type": "markdown",
      "metadata": {
        "id": "2D01wnURo5Ys"
      },
      "source": [
        "Теперь выведите значения максимума и минимума нормализованных признаков. Обратите внимание `MinMaxScaler` возвращается объект в виде `np.ndarray`."
      ]
    },
    {
      "cell_type": "code",
      "execution_count": 38,
      "metadata": {
        "id": "8qlsb9SjNE_a",
        "colab": {
          "base_uri": "https://localhost:8080/"
        },
        "outputId": "35f6ae46-d9b2-4167-e7ff-6b90b3c44bef"
      },
      "outputs": [
        {
          "output_type": "stream",
          "name": "stdout",
          "text": [
            "1.0\n",
            "1.0\n",
            "1.0\n",
            "1.0\n",
            "0.0\n",
            "0.05458212529938233\n",
            "0.0\n",
            "0.0\n"
          ]
        }
      ],
      "source": [
        "for i in range(data_X_train.shape[1]):\n",
        "  print(max(data_X_train[i]))\n",
        "for i in range(data_X_train.shape[1]):\n",
        "  print(min(data_X_train[i]))\n",
        "#Вывели все максимумы и минимумы, как мы можем видеть, что разброс в этот раз не такой сильный"
      ]
    },
    {
      "cell_type": "markdown",
      "metadata": {
        "id": "OV7-PW0pIdq6"
      },
      "source": [
        "Обучите модель и сравните результат предсказаний со стандартизацией и без."
      ]
    },
    {
      "cell_type": "code",
      "execution_count": 39,
      "metadata": {
        "id": "BLq3asddIdHr",
        "colab": {
          "base_uri": "https://localhost:8080/",
          "height": 557
        },
        "outputId": "44b618de-0eed-43d2-8f15-9272313cb398"
      },
      "outputs": [
        {
          "output_type": "stream",
          "name": "stderr",
          "text": [
            "<ipython-input-34-52bb8b2f0e52>:8: UserWarning: No artists with labels found to put in legend.  Note that artists whose label start with an underscore are ignored when legend() is called with no argument.\n",
            "  plt.legend()\n"
          ]
        },
        {
          "output_type": "display_data",
          "data": {
            "text/plain": [
              "<Figure size 800x550 with 1 Axes>"
            ],
            "image/png": "[encoded data removed]"
          },
          "metadata": {}
        }
      ],
      "source": [
        "stats_test = Accuracystats_with_preprocessing(np.array(data_X_test), np.array(data_X_train), np.array(y_train), np.array(y_test), \"test\")\n",
        "stats_train =  Accuracystats_with_preprocessing(np.array(data_X_test), np.array(data_X_train), np.array(y_train), np.array(y_test), \"train\")\n",
        "Scatter_titanic(k, stats_test)"
      ]
    },
    {
      "cell_type": "markdown",
      "metadata": {
        "ai_eval_tool": {
          "snippet_hash": "3cf8b0b6b0402c9ceb439c2de6ee4276",
          "snippet_label": "end"
        },
        "id": "KGCAy2x1plhJ"
      },
      "source": [
        "С помощью нормализации мы смогли учесть набор данных, который в прошлый раз давал меньший вклад в метрику на фоне остальных признаков, например, Pclass и Sex, один из которых немаловажен как известно из пункта 2 задачи. За счет решения о нормализации мы смогли в лучшем случае увеличить accuracy до 79 с 68. Притом, что для любого k из диапазона от 1 до 20 данная нормализация повысила точность определения выживаемости"
      ]
    },
    {
      "cell_type": "markdown",
      "metadata": {
        "ai_eval_tool": {
          "snippet_hash": "02a5bc7d6f2e8382a04db099c58ba6d1",
          "snippet_label": "start"
        },
        "id": "m8foCV7dkzD9"
      },
      "source": [
        "<!-- Внимание! Здесь находится специальная отметка. Ее нельзя удалять! Ответы на вопросы / выводы для предыдущего пункта(ов) пиши в ячейках выше! -->\n",
        "<!-- 02a5bc7d6f2e8382a04db099c58ba6d1 -->\n",
        "**А можем ли мы как-то еще повысить точность модели?**\n",
        "\n",
        "Как мы видели, параметр $k$ числа соседей является необучаемым т.е. гиперпараметром, который выставляется вручную. Выбор оптимального значения $k$ важен, так как слишком маленькое значение может привести к переобучению, а слишком большое — к недообучению.\n",
        "\n",
        "\n",
        "\n",
        "Постройте график зависимости точности (`accuracy_score`) от значения $k$ (от 1 до 20) для обучающей и тестовой выборок."
      ]
    },
    {
      "cell_type": "code",
      "execution_count": 40,
      "metadata": {
        "id": "lWbvYKh1vW9m"
      },
      "outputs": [],
      "source": [
        "stats_test = Accuracystats_with_preprocessing(np.array(data_X_test), np.array(data_X_train), np.array(y_train), np.array(y_test), \"test\")\n",
        "stats_train =  Accuracystats_with_preprocessing(np.array(data_X_test), np.array(data_X_train), np.array(y_train), np.array(y_test), \"train\")"
      ]
    }
  ],
  "metadata": {
    "colab": {
      "provenance": []
    },
    "kernelspec": {
      "display_name": "Python 3 (ipykernel)",
      "language": "python",
      "name": "python3"
    },
    "language_info": {
      "codemirror_mode": {
        "name": "ipython",
        "version": 3
      },
      "file_extension": ".py",
      "mimetype": "text/x-python",
      "name": "python",
      "nbconvert_exporter": "python",
      "pygments_lexer": "ipython3",
      "version": "3.12.3"
    }
  },
  "nbformat": 4,
  "nbformat_minor": 0
}